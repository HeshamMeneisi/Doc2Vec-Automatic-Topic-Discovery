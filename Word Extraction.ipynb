{
 "cells": [
  {
   "cell_type": "code",
   "execution_count": 8,
   "metadata": {},
   "outputs": [
    {
     "name": "stdout",
     "output_type": "stream",
     "text": [
      "[nltk_data] Downloading package stopwords to\n",
      "[nltk_data]     C:\\Users\\Hesham\\AppData\\Roaming\\nltk_data...\n",
      "[nltk_data]   Package stopwords is already up-to-date!\n"
     ]
    },
    {
     "data": {
      "text/plain": [
       "True"
      ]
     },
     "execution_count": 8,
     "metadata": {},
     "output_type": "execute_result"
    }
   ],
   "source": [
    "import numpy as np\n",
    "import pandas as pd\n",
    "import seaborn as sns\n",
    "import os, re\n",
    "from nltk.tokenize import RegexpTokenizer\n",
    "from nltk.corpus import stopwords\n",
    "from nltk.stem.porter import PorterStemmer\n",
    "import nltk\n",
    "from gensim.models.doc2vec import TaggedDocument\n",
    "import pickle\n",
    "from gensim.parsing.preprocessing import preprocess_string\n",
    "\n",
    "from gensim.parsing.preprocessing import strip_tags\n",
    "from gensim.parsing.preprocessing import strip_punctuation\n",
    "from gensim.parsing.preprocessing import strip_multiple_whitespaces\n",
    "from gensim.parsing.preprocessing import strip_short\n",
    "from gensim.parsing.preprocessing import strip_numeric\n",
    "\n",
    "nltk.download('stopwords')"
   ]
  },
  {
   "cell_type": "code",
   "execution_count": 9,
   "metadata": {},
   "outputs": [],
   "source": [
    "data = pd.read_csv('./data_clean.csv')"
   ]
  },
  {
   "cell_type": "code",
   "execution_count": 10,
   "metadata": {},
   "outputs": [
    {
     "data": {
      "text/html": [
       "<div>\n",
       "<style scoped>\n",
       "    .dataframe tbody tr th:only-of-type {\n",
       "        vertical-align: middle;\n",
       "    }\n",
       "\n",
       "    .dataframe tbody tr th {\n",
       "        vertical-align: top;\n",
       "    }\n",
       "\n",
       "    .dataframe thead th {\n",
       "        text-align: right;\n",
       "    }\n",
       "</style>\n",
       "<table border=\"1\" class=\"dataframe\">\n",
       "  <thead>\n",
       "    <tr style=\"text-align: right;\">\n",
       "      <th></th>\n",
       "      <th>url</th>\n",
       "      <th>label</th>\n",
       "      <th>http</th>\n",
       "      <th>text</th>\n",
       "    </tr>\n",
       "  </thead>\n",
       "  <tbody>\n",
       "    <tr>\n",
       "      <th>0</th>\n",
       "      <td>retroplanet.com</td>\n",
       "      <td>Antiques and Collectibles/1950s Memorabilia</td>\n",
       "      <td>http://retroplanet.com</td>\n",
       "      <td>Retro Planet ~ Tin Signs, Retro Decor, Diner F...</td>\n",
       "    </tr>\n",
       "    <tr>\n",
       "      <th>1</th>\n",
       "      <td>hepcat.se</td>\n",
       "      <td>Antiques and Collectibles/1950s Memorabilia</td>\n",
       "      <td>http://hepcat.se</td>\n",
       "      <td>HepCat Store - Clothing, shoes, hats and acces...</td>\n",
       "    </tr>\n",
       "    <tr>\n",
       "      <th>2</th>\n",
       "      <td>barkclothhawaii.com</td>\n",
       "      <td>Antiques and Collectibles/1950s Memorabilia</td>\n",
       "      <td>http://barkclothhawaii.com</td>\n",
       "      <td>Barkcloth Hawaii \"Vintage\" Tropical Hawaiian F...</td>\n",
       "    </tr>\n",
       "    <tr>\n",
       "      <th>3</th>\n",
       "      <td>classic-modern.co.uk</td>\n",
       "      <td>Antiques and Collectibles/1950s Memorabilia</td>\n",
       "      <td>http://classic-modern.co.uk</td>\n",
       "      <td>Classic Modern Midcentury Design We use cookie...</td>\n",
       "    </tr>\n",
       "    <tr>\n",
       "      <th>4</th>\n",
       "      <td>hiandlomodern.com</td>\n",
       "      <td>Antiques and Collectibles/1950s Memorabilia</td>\n",
       "      <td>http://hiandlomodern.com</td>\n",
       "      <td>Hi+LoModern - 20th Century Artifacts hi+lomode...</td>\n",
       "    </tr>\n",
       "  </tbody>\n",
       "</table>\n",
       "</div>"
      ],
      "text/plain": [
       "                    url                                        label  \\\n",
       "0       retroplanet.com  Antiques and Collectibles/1950s Memorabilia   \n",
       "1             hepcat.se  Antiques and Collectibles/1950s Memorabilia   \n",
       "2   barkclothhawaii.com  Antiques and Collectibles/1950s Memorabilia   \n",
       "3  classic-modern.co.uk  Antiques and Collectibles/1950s Memorabilia   \n",
       "4     hiandlomodern.com  Antiques and Collectibles/1950s Memorabilia   \n",
       "\n",
       "                          http  \\\n",
       "0       http://retroplanet.com   \n",
       "1             http://hepcat.se   \n",
       "2   http://barkclothhawaii.com   \n",
       "3  http://classic-modern.co.uk   \n",
       "4     http://hiandlomodern.com   \n",
       "\n",
       "                                                text  \n",
       "0  Retro Planet ~ Tin Signs, Retro Decor, Diner F...  \n",
       "1  HepCat Store - Clothing, shoes, hats and acces...  \n",
       "2  Barkcloth Hawaii \"Vintage\" Tropical Hawaiian F...  \n",
       "3  Classic Modern Midcentury Design We use cookie...  \n",
       "4  Hi+LoModern - 20th Century Artifacts hi+lomode...  "
      ]
     },
     "execution_count": 10,
     "metadata": {},
     "output_type": "execute_result"
    }
   ],
   "source": [
    "data.head()"
   ]
  },
  {
   "cell_type": "code",
   "execution_count": 11,
   "metadata": {},
   "outputs": [
    {
     "data": {
      "text/html": [
       "<div>\n",
       "<style scoped>\n",
       "    .dataframe tbody tr th:only-of-type {\n",
       "        vertical-align: middle;\n",
       "    }\n",
       "\n",
       "    .dataframe tbody tr th {\n",
       "        vertical-align: top;\n",
       "    }\n",
       "\n",
       "    .dataframe thead th {\n",
       "        text-align: right;\n",
       "    }\n",
       "</style>\n",
       "<table border=\"1\" class=\"dataframe\">\n",
       "  <thead>\n",
       "    <tr style=\"text-align: right;\">\n",
       "      <th></th>\n",
       "      <th>url</th>\n",
       "      <th>label</th>\n",
       "      <th>http</th>\n",
       "      <th>text</th>\n",
       "    </tr>\n",
       "  </thead>\n",
       "  <tbody>\n",
       "    <tr>\n",
       "      <th>count</th>\n",
       "      <td>38003</td>\n",
       "      <td>38003</td>\n",
       "      <td>38003</td>\n",
       "      <td>38003</td>\n",
       "    </tr>\n",
       "    <tr>\n",
       "      <th>unique</th>\n",
       "      <td>38003</td>\n",
       "      <td>3529</td>\n",
       "      <td>38003</td>\n",
       "      <td>38003</td>\n",
       "    </tr>\n",
       "    <tr>\n",
       "      <th>top</th>\n",
       "      <td>miamiaromatherapy.com</td>\n",
       "      <td>Gifts/Personalized/Trophies</td>\n",
       "      <td>http://japangarden.co.uk</td>\n",
       "      <td>Rock Guitar Lessons Online Site Home About Con...</td>\n",
       "    </tr>\n",
       "    <tr>\n",
       "      <th>freq</th>\n",
       "      <td>1</td>\n",
       "      <td>50</td>\n",
       "      <td>1</td>\n",
       "      <td>1</td>\n",
       "    </tr>\n",
       "  </tbody>\n",
       "</table>\n",
       "</div>"
      ],
      "text/plain": [
       "                          url                        label  \\\n",
       "count                   38003                        38003   \n",
       "unique                  38003                         3529   \n",
       "top     miamiaromatherapy.com  Gifts/Personalized/Trophies   \n",
       "freq                        1                           50   \n",
       "\n",
       "                            http  \\\n",
       "count                      38003   \n",
       "unique                     38003   \n",
       "top     http://japangarden.co.uk   \n",
       "freq                           1   \n",
       "\n",
       "                                                     text  \n",
       "count                                               38003  \n",
       "unique                                              38003  \n",
       "top     Rock Guitar Lessons Online Site Home About Con...  \n",
       "freq                                                    1  "
      ]
     },
     "execution_count": 11,
     "metadata": {},
     "output_type": "execute_result"
    }
   ],
   "source": [
    "data.describe(include='all')[:4]"
   ]
  },
  {
   "cell_type": "code",
   "execution_count": 12,
   "metadata": {},
   "outputs": [],
   "source": [
    "stop_words = set(stopwords.words('english'))\n",
    "\n",
    "p_stemmer = PorterStemmer()\n",
    "\n",
    "def preprocess(text):    \n",
    "    text = re.sub(r'[^\\x20-\\x7E]+',' ', text).lower()\n",
    "    text = strip_tags(text)\n",
    "    text = \" \".join(w for w in text.split() if 'http' not in w and 'www' not in w and '@' not in w and not re.match('.+\\.[a-z]{2,3}', w))\n",
    "    text = strip_punctuation(text)\n",
    "    text = strip_multiple_whitespaces(text)\n",
    "    text = strip_numeric(text)\n",
    "    text = strip_short(text)\n",
    "    tokens = [i for i in text.split() if i not in stop_words]\n",
    "    tokens_alnum = [i for i in tokens if i.isalnum()]\n",
    "    # stem tokens\n",
    "    stemmed_tokens = [p_stemmer.stem(i) for i in tokens_alnum]\n",
    "    # remove empty\n",
    "    filtered = [i for i in stemmed_tokens if len(i) > 1]\n",
    "\n",
    "    return filtered"
   ]
  },
  {
   "cell_type": "code",
   "execution_count": 13,
   "metadata": {},
   "outputs": [
    {
     "name": "stdout",
     "output_type": "stream",
     "text": [
      "37092  total documents.\n"
     ]
    }
   ],
   "source": [
    "docs = []\n",
    "\n",
    "word_thresh = 15\n",
    "\n",
    "english_thresh = 0.2\n",
    "\n",
    "for idx, row in data.iterrows():\n",
    "    processed = preprocess(row.text)\n",
    "    if len(set(processed)) > word_thresh:\n",
    "        wc = len(row.text.split())\n",
    "        r = len(processed)/wc\n",
    "        # Frensh and German websites will still match with each other\n",
    "        if r > english_thresh:\n",
    "            docs.append(TaggedDocument(processed, [row.url]))\n",
    "print(len(docs), ' total documents.')"
   ]
  },
  {
   "cell_type": "code",
   "execution_count": 14,
   "metadata": {},
   "outputs": [],
   "source": [
    "with open('./docs.pkl', 'wb') as file:\n",
    "    pickle.dump(docs, file)"
   ]
  },
  {
   "cell_type": "code",
   "execution_count": null,
   "metadata": {},
   "outputs": [],
   "source": [
    "# tag = ''\n",
    "# for doc in docs:\n",
    "#     if tag in doc.tags:\n",
    "#         print(doc.words)"
   ]
  },
  {
   "cell_type": "code",
   "execution_count": null,
   "metadata": {},
   "outputs": [],
   "source": []
  }
 ],
 "metadata": {
  "kernelspec": {
   "display_name": "Python 3",
   "language": "python",
   "name": "python3"
  },
  "language_info": {
   "codemirror_mode": {
    "name": "ipython",
    "version": 3
   },
   "file_extension": ".py",
   "mimetype": "text/x-python",
   "name": "python",
   "nbconvert_exporter": "python",
   "pygments_lexer": "ipython3",
   "version": "3.6.2"
  }
 },
 "nbformat": 4,
 "nbformat_minor": 2
}
